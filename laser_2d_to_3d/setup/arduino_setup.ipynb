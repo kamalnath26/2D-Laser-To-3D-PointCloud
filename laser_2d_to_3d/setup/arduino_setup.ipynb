{
 "cells": [
  {
   "cell_type": "markdown",
   "metadata": {},
   "source": [
    "Dependencies for ros serial communication"
   ]
  },
  {
   "cell_type": "markdown",
   "metadata": {},
   "source": [
    "sudo apt-get install ros-noetic-rosserial-arduino\n",
    "sudo apt-get install ros-noetic-rosserial"
   ]
  },
  {
   "cell_type": "code",
   "execution_count": null,
   "metadata": {
    "vscode": {
     "languageId": "plaintext"
    }
   },
   "outputs": [],
   "source": [
    "/*\n",
    " * rosserial Servo Control Example\n",
    " *\n",
    " * This sketch demonstrates the control of hobby R/C servos\n",
    " * using ROS and the arduiono\n",
    " * \n",
    " * For the full tutorial write up, visit\n",
    " * www.ros.org/wiki/rosserial_arduino_demos\n",
    " *\n",
    " * For more information on the Arduino Servo Library\n",
    " * Checkout :\n",
    " * http://www.arduino.cc/en/Reference/Servo\n",
    " */\n",
    "\n",
    "#if (ARDUINO >= 100)\n",
    " #include <Arduino.h>\n",
    "#else\n",
    " #include <WProgram.h>\n",
    "#endif\n",
    "\n",
    "#include <Servo.h> \n",
    "#include <ros.h>\n",
    "#include <std_msgs/UInt16.h>\n",
    "\n",
    "ros::NodeHandle  nh;\n",
    "\n",
    "int current_deg;\n",
    "\n",
    "Servo servo;\n",
    "\n",
    "void servo_cb( const std_msgs::UInt16& cmd_msg){\n",
    "  servo.write(cmd_msg.data); //set servo angle, should be from 0-180  \n",
    "  digitalWrite(13, HIGH-digitalRead(13));  //toggle led  \n",
    "}\n",
    "\n",
    "\n",
    "ros::Subscriber<std_msgs::UInt16> sub(\"servo/angle\", servo_cb);\n",
    "\n",
    "void setup(){\n",
    "  pinMode(13, OUTPUT);\n",
    "\n",
    "  nh.initNode();\n",
    "  nh.subscribe(sub);\n",
    "  \n",
    "  servo.attach(9); //attach it to pin 9\n",
    "\n",
    "  Serial.begin(115200);\n",
    "}\n",
    "\n",
    "void loop(){\n",
    "  nh.spinOnce();\n",
    "  current_deg = servo.read();\n",
    "//  Serial.print(\"Servo Position: \");\n",
    "//  Serial.println(current_deg);\n",
    "  delay(1);\n",
    "}"
   ]
  },
  {
   "cell_type": "markdown",
   "metadata": {},
   "source": [
    "run the ros serial node for communition with the arduino board and run the servo_sweep needd to publish commnads for arduino to move the servo"
   ]
  }
 ],
 "metadata": {
  "language_info": {
   "name": "python"
  }
 },
 "nbformat": 4,
 "nbformat_minor": 2
}
