{
 "cells": [
  {
   "cell_type": "markdown",
   "metadata": {},
   "source": [
    "# 2D Lidar Scans to 3D Point Cloud\n",
    "## Perpendicular mounting, horizontal sweep"
   ]
  },
  {
   "cell_type": "code",
   "execution_count": 1,
   "metadata": {},
   "outputs": [],
   "source": [
    "import numpy as np\n",
    "import open3d as o3d\n",
    "import matplotlib\n",
    "from matplotlib import pyplot as plt"
   ]
  },
  {
   "cell_type": "code",
   "execution_count": 2,
   "metadata": {},
   "outputs": [],
   "source": [
    "mock_data = np.random.rand(120, 360) * 0.2 + 6.0 # mock data, each row is a full lidar scan from a servo position\n",
    "# col represents angle from lidar\n",
    "# values are ranges in meters"
   ]
  },
  {
   "cell_type": "code",
   "execution_count": 3,
   "metadata": {},
   "outputs": [
    {
     "data": {
      "text/plain": [
       "(120, 181)"
      ]
     },
     "execution_count": 3,
     "metadata": {},
     "output_type": "execute_result"
    }
   ],
   "source": [
    "ranges = mock_data[:, 0:181]\n",
    "ranges.shape"
   ]
  },
  {
   "cell_type": "code",
   "execution_count": 4,
   "metadata": {},
   "outputs": [
    {
     "data": {
      "text/plain": [
       "(np.float64(0.0),\n",
       " np.float64(1.5707963267948966),\n",
       " np.float64(3.141592653589793))"
      ]
     },
     "execution_count": 4,
     "metadata": {},
     "output_type": "execute_result"
    }
   ],
   "source": [
    "# theta angles (lidar angles) in radians\n",
    "thetas = np.radians(np.arange(181, dtype=float))\n",
    "thetas[0], thetas[90], thetas[180]"
   ]
  },
  {
   "cell_type": "code",
   "execution_count": 5,
   "metadata": {},
   "outputs": [
    {
     "data": {
      "text/plain": [
       "array([0.52359878, 0.54105207, 0.55850536, 0.57595865, 0.59341195,\n",
       "       0.61086524, 0.62831853, 0.64577182, 0.66322512, 0.68067841,\n",
       "       0.6981317 , 0.71558499, 0.73303829, 0.75049158, 0.76794487,\n",
       "       0.78539816, 0.80285146, 0.82030475, 0.83775804, 0.85521133,\n",
       "       0.87266463, 0.89011792, 0.90757121, 0.9250245 , 0.9424778 ,\n",
       "       0.95993109, 0.97738438, 0.99483767, 1.01229097, 1.02974426,\n",
       "       1.04719755, 1.06465084, 1.08210414, 1.09955743, 1.11701072,\n",
       "       1.13446401, 1.15191731, 1.1693706 , 1.18682389, 1.20427718,\n",
       "       1.22173048, 1.23918377, 1.25663706, 1.27409035, 1.29154365,\n",
       "       1.30899694, 1.32645023, 1.34390352, 1.36135682, 1.37881011,\n",
       "       1.3962634 , 1.41371669, 1.43116999, 1.44862328, 1.46607657,\n",
       "       1.48352986, 1.50098316, 1.51843645, 1.53588974, 1.55334303,\n",
       "       1.57079633, 1.58824962, 1.60570291, 1.6231562 , 1.6406095 ,\n",
       "       1.65806279, 1.67551608, 1.69296937, 1.71042267, 1.72787596,\n",
       "       1.74532925, 1.76278254, 1.78023584, 1.79768913, 1.81514242,\n",
       "       1.83259571, 1.85004901, 1.8675023 , 1.88495559, 1.90240888,\n",
       "       1.91986218, 1.93731547, 1.95476876, 1.97222205, 1.98967535,\n",
       "       2.00712864, 2.02458193, 2.04203522, 2.05948852, 2.07694181,\n",
       "       2.0943951 , 2.11184839, 2.12930169, 2.14675498, 2.16420827,\n",
       "       2.18166156, 2.19911486, 2.21656815, 2.23402144, 2.25147474,\n",
       "       2.26892803, 2.28638132, 2.30383461, 2.32128791, 2.3387412 ,\n",
       "       2.35619449, 2.37364778, 2.39110108, 2.40855437, 2.42600766,\n",
       "       2.44346095, 2.46091425, 2.47836754, 2.49582083, 2.51327412,\n",
       "       2.53072742, 2.54818071, 2.565634  , 2.58308729, 2.60054059])"
      ]
     },
     "execution_count": 5,
     "metadata": {},
     "output_type": "execute_result"
    }
   ],
   "source": [
    "# servo angles in radians\n",
    "sweep = mock_data.shape[0]\n",
    "min_angle = (180 - mock_data.shape[0] ) / 2\n",
    "max_angle = min_angle + sweep\n",
    "rhos = np.radians(np.arange(min_angle, max_angle))\n",
    "rhos"
   ]
  },
  {
   "cell_type": "code",
   "execution_count": 6,
   "metadata": {},
   "outputs": [],
   "source": [
    "# horizontal component of range (broadcast multiplication)\n",
    "ranges_xy = ranges * np.sin(thetas)"
   ]
  },
  {
   "cell_type": "code",
   "execution_count": 7,
   "metadata": {},
   "outputs": [
    {
     "data": {
      "text/plain": [
       "array([[0.52359878],\n",
       "       [0.54105207],\n",
       "       [0.55850536],\n",
       "       [0.57595865],\n",
       "       [0.59341195],\n",
       "       [0.61086524],\n",
       "       [0.62831853],\n",
       "       [0.64577182],\n",
       "       [0.66322512],\n",
       "       [0.68067841],\n",
       "       [0.6981317 ],\n",
       "       [0.71558499],\n",
       "       [0.73303829],\n",
       "       [0.75049158],\n",
       "       [0.76794487],\n",
       "       [0.78539816],\n",
       "       [0.80285146],\n",
       "       [0.82030475],\n",
       "       [0.83775804],\n",
       "       [0.85521133],\n",
       "       [0.87266463],\n",
       "       [0.89011792],\n",
       "       [0.90757121],\n",
       "       [0.9250245 ],\n",
       "       [0.9424778 ],\n",
       "       [0.95993109],\n",
       "       [0.97738438],\n",
       "       [0.99483767],\n",
       "       [1.01229097],\n",
       "       [1.02974426],\n",
       "       [1.04719755],\n",
       "       [1.06465084],\n",
       "       [1.08210414],\n",
       "       [1.09955743],\n",
       "       [1.11701072],\n",
       "       [1.13446401],\n",
       "       [1.15191731],\n",
       "       [1.1693706 ],\n",
       "       [1.18682389],\n",
       "       [1.20427718],\n",
       "       [1.22173048],\n",
       "       [1.23918377],\n",
       "       [1.25663706],\n",
       "       [1.27409035],\n",
       "       [1.29154365],\n",
       "       [1.30899694],\n",
       "       [1.32645023],\n",
       "       [1.34390352],\n",
       "       [1.36135682],\n",
       "       [1.37881011],\n",
       "       [1.3962634 ],\n",
       "       [1.41371669],\n",
       "       [1.43116999],\n",
       "       [1.44862328],\n",
       "       [1.46607657],\n",
       "       [1.48352986],\n",
       "       [1.50098316],\n",
       "       [1.51843645],\n",
       "       [1.53588974],\n",
       "       [1.55334303],\n",
       "       [1.57079633],\n",
       "       [1.58824962],\n",
       "       [1.60570291],\n",
       "       [1.6231562 ],\n",
       "       [1.6406095 ],\n",
       "       [1.65806279],\n",
       "       [1.67551608],\n",
       "       [1.69296937],\n",
       "       [1.71042267],\n",
       "       [1.72787596],\n",
       "       [1.74532925],\n",
       "       [1.76278254],\n",
       "       [1.78023584],\n",
       "       [1.79768913],\n",
       "       [1.81514242],\n",
       "       [1.83259571],\n",
       "       [1.85004901],\n",
       "       [1.8675023 ],\n",
       "       [1.88495559],\n",
       "       [1.90240888],\n",
       "       [1.91986218],\n",
       "       [1.93731547],\n",
       "       [1.95476876],\n",
       "       [1.97222205],\n",
       "       [1.98967535],\n",
       "       [2.00712864],\n",
       "       [2.02458193],\n",
       "       [2.04203522],\n",
       "       [2.05948852],\n",
       "       [2.07694181],\n",
       "       [2.0943951 ],\n",
       "       [2.11184839],\n",
       "       [2.12930169],\n",
       "       [2.14675498],\n",
       "       [2.16420827],\n",
       "       [2.18166156],\n",
       "       [2.19911486],\n",
       "       [2.21656815],\n",
       "       [2.23402144],\n",
       "       [2.25147474],\n",
       "       [2.26892803],\n",
       "       [2.28638132],\n",
       "       [2.30383461],\n",
       "       [2.32128791],\n",
       "       [2.3387412 ],\n",
       "       [2.35619449],\n",
       "       [2.37364778],\n",
       "       [2.39110108],\n",
       "       [2.40855437],\n",
       "       [2.42600766],\n",
       "       [2.44346095],\n",
       "       [2.46091425],\n",
       "       [2.47836754],\n",
       "       [2.49582083],\n",
       "       [2.51327412],\n",
       "       [2.53072742],\n",
       "       [2.54818071],\n",
       "       [2.565634  ],\n",
       "       [2.58308729],\n",
       "       [2.60054059]])"
      ]
     },
     "execution_count": 7,
     "metadata": {},
     "output_type": "execute_result"
    }
   ],
   "source": [
    "# reshape rhos to vertical\n",
    "rhos = rhos.reshape(-1, 1)\n",
    "rhos"
   ]
  },
  {
   "cell_type": "code",
   "execution_count": 8,
   "metadata": {},
   "outputs": [
    {
     "data": {
      "text/plain": [
       "array([[ 6.18617131,  6.06318505,  6.02586232, ..., -6.1737219 ,\n",
       "        -6.05200592, -6.00837963],\n",
       "       [ 6.01783491,  6.10934083,  6.16628264, ..., -6.07959373,\n",
       "        -6.19527194, -6.12097358],\n",
       "       [ 6.11728161,  6.0102246 ,  6.03895264, ..., -6.08651644,\n",
       "        -6.17801933, -6.1205588 ],\n",
       "       ...,\n",
       "       [ 6.18778551,  6.15075521,  6.14285554, ..., -6.06800439,\n",
       "        -6.10230209, -6.15224068],\n",
       "       [ 6.07689258,  6.09297951,  6.04141567, ..., -6.0685144 ,\n",
       "        -6.14850412, -6.1797907 ],\n",
       "       [ 6.18035726,  6.15238994,  6.19582947, ..., -6.02341813,\n",
       "        -6.19356455, -6.02598398]])"
      ]
     },
     "execution_count": 8,
     "metadata": {},
     "output_type": "execute_result"
    }
   ],
   "source": [
    "ranges_z = ranges * np.cos(thetas)\n",
    "ranges_z"
   ]
  },
  {
   "cell_type": "code",
   "execution_count": 9,
   "metadata": {},
   "outputs": [],
   "source": [
    "x = ranges_xy * np.cos(rhos)\n",
    "y = ranges_xy * np.sin(rhos)\n",
    "\n",
    "x = x.flatten().reshape(-1, 1)\n",
    "y = y.flatten().reshape(-1, 1)\n",
    "z = ranges_z.flatten().reshape(-1, 1)"
   ]
  },
  {
   "cell_type": "code",
   "execution_count": 10,
   "metadata": {},
   "outputs": [
    {
     "data": {
      "text/plain": [
       "(21720, 3)"
      ]
     },
     "execution_count": 10,
     "metadata": {},
     "output_type": "execute_result"
    }
   ],
   "source": [
    "xyz = np.hstack((x, y, z))\n",
    "xyz.shape"
   ]
  },
  {
   "cell_type": "code",
   "execution_count": 11,
   "metadata": {},
   "outputs": [
    {
     "data": {
      "text/plain": [
       "True"
      ]
     },
     "execution_count": 11,
     "metadata": {},
     "output_type": "execute_result"
    }
   ],
   "source": [
    "# Create point cloud\n",
    "pcd = o3d.geometry.PointCloud()\n",
    "pcd.points = o3d.utility.Vector3dVector(xyz)\n",
    "o3d.io.write_point_cloud(\"test.ply\", pcd)"
   ]
  },
  {
   "cell_type": "code",
   "execution_count": null,
   "metadata": {},
   "outputs": [
    {
     "ename": "",
     "evalue": "",
     "output_type": "error",
     "traceback": [
      "\u001b[1;31mThe Kernel crashed while executing code in the current cell or a previous cell. \n",
      "\u001b[1;31mPlease review the code in the cell(s) to identify a possible cause of the failure. \n",
      "\u001b[1;31mClick <a href='https://aka.ms/vscodeJupyterKernelCrash'>here</a> for more info. \n",
      "\u001b[1;31mView Jupyter <a href='command:jupyter.viewOutput'>log</a> for further details."
     ]
    }
   ],
   "source": [
    "# Visualize\n",
    "# mesh_frame = o3d.geometry.TriangleMesh.create_coordinate_frame(size=1, origin=[0, 0, 0])\n",
    "pcd.estimate_normals()\n",
    "pcd_mesh, densities = o3d.geometry.TriangleMesh.create_from_point_cloud_poisson(pcd)\n",
    "pcd_mesh.paint_uniform_color([1, 0, 0])\n",
    "o3d.web_visualizer.draw_geometries([pcd_mesh])\n"
   ]
  },
  {
   "cell_type": "code",
   "execution_count": null,
   "metadata": {},
   "outputs": [],
   "source": []
  }
 ],
 "metadata": {
  "kernelspec": {
   "display_name": "Python 3",
   "language": "python",
   "name": "python3"
  },
  "language_info": {
   "codemirror_mode": {
    "name": "ipython",
    "version": 3
   },
   "file_extension": ".py",
   "mimetype": "text/x-python",
   "name": "python",
   "nbconvert_exporter": "python",
   "pygments_lexer": "ipython3",
   "version": "3.11.7"
  }
 },
 "nbformat": 4,
 "nbformat_minor": 2
}
